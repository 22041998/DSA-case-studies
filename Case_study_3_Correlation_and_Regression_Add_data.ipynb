{
 "cells": [
  {
   "cell_type": "code",
   "execution_count": 1,
   "id": "7321334d",
   "metadata": {
    "id": "7321334d"
   },
   "outputs": [],
   "source": [
    "import pandas as pd\n",
    "import numpy as np\n",
    "import matplotlib.pyplot as plt\n",
    "import seaborn as sns\n",
    "\n",
    "# Supress Warnings\n",
    "\n",
    "import warnings\n",
    "warnings.filterwarnings('ignore')"
   ]
  },
  {
   "cell_type": "code",
   "execution_count": 2,
   "id": "f32f2b64",
   "metadata": {
    "id": "f32f2b64"
   },
   "outputs": [],
   "source": [
    "data = pd.read_csv('Add_sales_data_2018.csv')"
   ]
  },
  {
   "cell_type": "code",
   "execution_count": 3,
   "id": "a81d807a",
   "metadata": {
    "id": "a81d807a",
    "outputId": "615eeb22-53f0-4d0d-a6a1-c65b9a922dd6"
   },
   "outputs": [
    {
     "data": {
      "text/html": [
       "<div>\n",
       "<style scoped>\n",
       "    .dataframe tbody tr th:only-of-type {\n",
       "        vertical-align: middle;\n",
       "    }\n",
       "\n",
       "    .dataframe tbody tr th {\n",
       "        vertical-align: top;\n",
       "    }\n",
       "\n",
       "    .dataframe thead th {\n",
       "        text-align: right;\n",
       "    }\n",
       "</style>\n",
       "<table border=\"1\" class=\"dataframe\">\n",
       "  <thead>\n",
       "    <tr style=\"text-align: right;\">\n",
       "      <th></th>\n",
       "      <th>Date</th>\n",
       "      <th>Add1(in Thousands)</th>\n",
       "      <th>Add2(in Thousands)</th>\n",
       "      <th>Add3(in Thousands)</th>\n",
       "      <th>Add4(in Thousands)</th>\n",
       "      <th>Add5(in Thousands)</th>\n",
       "      <th>Profit(in Thousands)</th>\n",
       "    </tr>\n",
       "  </thead>\n",
       "  <tbody>\n",
       "    <tr>\n",
       "      <th>0</th>\n",
       "      <td>2018-10-08</td>\n",
       "      <td>208.00</td>\n",
       "      <td>222.25</td>\n",
       "      <td>206.85</td>\n",
       "      <td>216.00</td>\n",
       "      <td>215.15</td>\n",
       "      <td>4093.065</td>\n",
       "    </tr>\n",
       "    <tr>\n",
       "      <th>1</th>\n",
       "      <td>2018-10-05</td>\n",
       "      <td>217.00</td>\n",
       "      <td>218.60</td>\n",
       "      <td>205.90</td>\n",
       "      <td>210.25</td>\n",
       "      <td>209.20</td>\n",
       "      <td>4042.448</td>\n",
       "    </tr>\n",
       "    <tr>\n",
       "      <th>2</th>\n",
       "      <td>2018-10-04</td>\n",
       "      <td>223.50</td>\n",
       "      <td>227.80</td>\n",
       "      <td>216.15</td>\n",
       "      <td>217.25</td>\n",
       "      <td>218.20</td>\n",
       "      <td>4213.819</td>\n",
       "    </tr>\n",
       "    <tr>\n",
       "      <th>3</th>\n",
       "      <td>2018-10-03</td>\n",
       "      <td>230.00</td>\n",
       "      <td>237.50</td>\n",
       "      <td>225.75</td>\n",
       "      <td>226.45</td>\n",
       "      <td>227.60</td>\n",
       "      <td>4391.665</td>\n",
       "    </tr>\n",
       "    <tr>\n",
       "      <th>4</th>\n",
       "      <td>2018-10-01</td>\n",
       "      <td>234.55</td>\n",
       "      <td>234.60</td>\n",
       "      <td>221.05</td>\n",
       "      <td>230.30</td>\n",
       "      <td>230.90</td>\n",
       "      <td>4350.683</td>\n",
       "    </tr>\n",
       "  </tbody>\n",
       "</table>\n",
       "</div>"
      ],
      "text/plain": [
       "         Date  Add1(in Thousands)  Add2(in Thousands)  Add3(in Thousands)  \\\n",
       "0  2018-10-08              208.00              222.25              206.85   \n",
       "1  2018-10-05              217.00              218.60              205.90   \n",
       "2  2018-10-04              223.50              227.80              216.15   \n",
       "3  2018-10-03              230.00              237.50              225.75   \n",
       "4  2018-10-01              234.55              234.60              221.05   \n",
       "\n",
       "   Add4(in Thousands)  Add5(in Thousands)  Profit(in Thousands)  \n",
       "0              216.00              215.15              4093.065  \n",
       "1              210.25              209.20              4042.448  \n",
       "2              217.25              218.20              4213.819  \n",
       "3              226.45              227.60              4391.665  \n",
       "4              230.30              230.90              4350.683  "
      ]
     },
     "execution_count": 3,
     "metadata": {},
     "output_type": "execute_result"
    }
   ],
   "source": [
    "data.head()"
   ]
  },
  {
   "cell_type": "code",
   "execution_count": 4,
   "id": "6a7a67a9",
   "metadata": {
    "id": "6a7a67a9",
    "outputId": "d5dd0451-121a-44bf-db3e-55e92cf00934"
   },
   "outputs": [
    {
     "name": "stdout",
     "output_type": "stream",
     "text": [
      "<class 'pandas.core.frame.DataFrame'>\n",
      "RangeIndex: 205 entries, 0 to 204\n",
      "Data columns (total 7 columns):\n",
      " #   Column                Non-Null Count  Dtype  \n",
      "---  ------                --------------  -----  \n",
      " 0   Date                  205 non-null    object \n",
      " 1   Add1(in Thousands)    205 non-null    float64\n",
      " 2   Add2(in Thousands)    205 non-null    float64\n",
      " 3   Add3(in Thousands)    205 non-null    float64\n",
      " 4   Add4(in Thousands)    205 non-null    float64\n",
      " 5   Add5(in Thousands)    205 non-null    float64\n",
      " 6   Profit(in Thousands)  205 non-null    float64\n",
      "dtypes: float64(6), object(1)\n",
      "memory usage: 11.3+ KB\n"
     ]
    }
   ],
   "source": [
    "data.info()"
   ]
  },
  {
   "cell_type": "code",
   "execution_count": 5,
   "id": "34391c97",
   "metadata": {
    "id": "34391c97",
    "outputId": "25bacb86-cecf-4697-9aa1-d0a1841ce669"
   },
   "outputs": [
    {
     "data": {
      "text/plain": [
       "(205, 7)"
      ]
     },
     "execution_count": 5,
     "metadata": {},
     "output_type": "execute_result"
    }
   ],
   "source": [
    "data.shape"
   ]
  },
  {
   "cell_type": "code",
   "execution_count": 6,
   "id": "394ac631",
   "metadata": {
    "id": "394ac631",
    "outputId": "6e7b3b26-cac3-4c7d-e2b2-5a8c5eb57848"
   },
   "outputs": [
    {
     "data": {
      "text/plain": [
       "Date                    0\n",
       "Add1(in Thousands)      0\n",
       "Add2(in Thousands)      0\n",
       "Add3(in Thousands)      0\n",
       "Add4(in Thousands)      0\n",
       "Add5(in Thousands)      0\n",
       "Profit(in Thousands)    0\n",
       "dtype: int64"
      ]
     },
     "execution_count": 6,
     "metadata": {},
     "output_type": "execute_result"
    }
   ],
   "source": [
    "data.isna().sum()"
   ]
  },
  {
   "cell_type": "code",
   "execution_count": 7,
   "id": "60765693",
   "metadata": {
    "id": "60765693",
    "outputId": "4f1dbca3-a9c3-4d82-b5b7-c25f1cda7d15"
   },
   "outputs": [
    {
     "data": {
      "image/png": "[encoded data removed]",
      "text/plain": [
       "<Figure size 360x360 with 3 Axes>"
      ]
     },
     "metadata": {
      "needs_background": "light"
     },
     "output_type": "display_data"
    }
   ],
   "source": [
    "# Outlier Analysis\n",
    "fig, axs = plt.subplots(3, figsize = (5,5))\n",
    "plt1 = sns.boxplot(data['Add1(in Thousands)'], ax = axs[0])\n",
    "plt2 = sns.boxplot(data['Add2(in Thousands)'], ax = axs[1])\n",
    "plt3 = sns.boxplot(data['Add3(in Thousands)'], ax = axs[2])\n",
    "plt.tight_layout()"
   ]
  },
  {
   "cell_type": "code",
   "execution_count": 8,
   "id": "51dd42fe",
   "metadata": {
    "id": "51dd42fe",
    "outputId": "29ce6a04-88ab-482d-8a02-d2f50b515354"
   },
   "outputs": [
    {
     "data": {
      "image/png": "[encoded data removed]",
      "text/plain": [
       "<Figure size 432x288 with 1 Axes>"
      ]
     },
     "metadata": {
      "needs_background": "light"
     },
     "output_type": "display_data"
    }
   ],
   "source": [
    "sns.boxplot(data['Profit(in Thousands)'])\n",
    "plt.show()"
   ]
  },
  {
   "cell_type": "code",
   "execution_count": 9,
   "id": "ff7e143e",
   "metadata": {
    "id": "ff7e143e"
   },
   "outputs": [],
   "source": [
    "# There are no considerable outliers present in the data."
   ]
  },
  {
   "cell_type": "markdown",
   "id": "8dcbfe42",
   "metadata": {
    "id": "8dcbfe42"
   },
   "source": [
    "# 1. First of all, check whether there is any relationship between the amount  spent for advertising through five different companies and profit generated."
   ]
  },
  {
   "cell_type": "code",
   "execution_count": 10,
   "id": "e7e2ecb6",
   "metadata": {
    "id": "e7e2ecb6",
    "outputId": "110d386b-d699-4487-887a-fe917b8f65fb"
   },
   "outputs": [
    {
     "data": {
      "text/html": [
       "<div>\n",
       "<style scoped>\n",
       "    .dataframe tbody tr th:only-of-type {\n",
       "        vertical-align: middle;\n",
       "    }\n",
       "\n",
       "    .dataframe tbody tr th {\n",
       "        vertical-align: top;\n",
       "    }\n",
       "\n",
       "    .dataframe thead th {\n",
       "        text-align: right;\n",
       "    }\n",
       "</style>\n",
       "<table border=\"1\" class=\"dataframe\">\n",
       "  <thead>\n",
       "    <tr style=\"text-align: right;\">\n",
       "      <th></th>\n",
       "      <th>Add1(in Thousands)</th>\n",
       "      <th>Add2(in Thousands)</th>\n",
       "      <th>Add3(in Thousands)</th>\n",
       "      <th>Add4(in Thousands)</th>\n",
       "      <th>Add5(in Thousands)</th>\n",
       "      <th>Profit(in Thousands)</th>\n",
       "    </tr>\n",
       "  </thead>\n",
       "  <tbody>\n",
       "    <tr>\n",
       "      <th>count</th>\n",
       "      <td>205.000000</td>\n",
       "      <td>205.000000</td>\n",
       "      <td>205.000000</td>\n",
       "      <td>205.000000</td>\n",
       "      <td>205.000000</td>\n",
       "      <td>205.000000</td>\n",
       "    </tr>\n",
       "    <tr>\n",
       "      <th>mean</th>\n",
       "      <td>267.577561</td>\n",
       "      <td>271.722439</td>\n",
       "      <td>262.990732</td>\n",
       "      <td>267.223902</td>\n",
       "      <td>267.152683</td>\n",
       "      <td>5059.630234</td>\n",
       "    </tr>\n",
       "    <tr>\n",
       "      <th>std</th>\n",
       "      <td>26.219588</td>\n",
       "      <td>25.914939</td>\n",
       "      <td>26.126704</td>\n",
       "      <td>26.238832</td>\n",
       "      <td>26.215360</td>\n",
       "      <td>486.910414</td>\n",
       "    </tr>\n",
       "    <tr>\n",
       "      <th>min</th>\n",
       "      <td>208.000000</td>\n",
       "      <td>218.600000</td>\n",
       "      <td>205.900000</td>\n",
       "      <td>210.250000</td>\n",
       "      <td>209.200000</td>\n",
       "      <td>4042.448000</td>\n",
       "    </tr>\n",
       "    <tr>\n",
       "      <th>25%</th>\n",
       "      <td>244.000000</td>\n",
       "      <td>248.500000</td>\n",
       "      <td>240.300000</td>\n",
       "      <td>243.050000</td>\n",
       "      <td>243.000000</td>\n",
       "      <td>4617.695000</td>\n",
       "    </tr>\n",
       "    <tr>\n",
       "      <th>50%</th>\n",
       "      <td>269.700000</td>\n",
       "      <td>274.200000</td>\n",
       "      <td>263.250000</td>\n",
       "      <td>268.900000</td>\n",
       "      <td>268.350000</td>\n",
       "      <td>5088.455000</td>\n",
       "    </tr>\n",
       "    <tr>\n",
       "      <th>75%</th>\n",
       "      <td>284.400000</td>\n",
       "      <td>288.800000</td>\n",
       "      <td>280.900000</td>\n",
       "      <td>284.500000</td>\n",
       "      <td>284.450000</td>\n",
       "      <td>5387.438000</td>\n",
       "    </tr>\n",
       "    <tr>\n",
       "      <th>max</th>\n",
       "      <td>327.700000</td>\n",
       "      <td>328.750000</td>\n",
       "      <td>321.650000</td>\n",
       "      <td>325.950000</td>\n",
       "      <td>325.750000</td>\n",
       "      <td>6137.800000</td>\n",
       "    </tr>\n",
       "  </tbody>\n",
       "</table>\n",
       "</div>"
      ],
      "text/plain": [
       "       Add1(in Thousands)  Add2(in Thousands)  Add3(in Thousands)  \\\n",
       "count          205.000000          205.000000          205.000000   \n",
       "mean           267.577561          271.722439          262.990732   \n",
       "std             26.219588           25.914939           26.126704   \n",
       "min            208.000000          218.600000          205.900000   \n",
       "25%            244.000000          248.500000          240.300000   \n",
       "50%            269.700000          274.200000          263.250000   \n",
       "75%            284.400000          288.800000          280.900000   \n",
       "max            327.700000          328.750000          321.650000   \n",
       "\n",
       "       Add4(in Thousands)  Add5(in Thousands)  Profit(in Thousands)  \n",
       "count          205.000000          205.000000            205.000000  \n",
       "mean           267.223902          267.152683           5059.630234  \n",
       "std             26.238832           26.215360            486.910414  \n",
       "min            210.250000          209.200000           4042.448000  \n",
       "25%            243.050000          243.000000           4617.695000  \n",
       "50%            268.900000          268.350000           5088.455000  \n",
       "75%            284.500000          284.450000           5387.438000  \n",
       "max            325.950000          325.750000           6137.800000  "
      ]
     },
     "execution_count": 10,
     "metadata": {},
     "output_type": "execute_result"
    }
   ],
   "source": [
    "data.describe()"
   ]
  },
  {
   "cell_type": "code",
   "execution_count": 11,
   "id": "8f7f5437",
   "metadata": {
    "id": "8f7f5437",
    "outputId": "1e1cf057-aea6-43c2-baa9-6ccc64e90931"
   },
   "outputs": [
    {
     "data": {
      "text/plain": [
       "Add1(in Thousands)       269.700\n",
       "Add2(in Thousands)       274.200\n",
       "Add3(in Thousands)       263.250\n",
       "Add4(in Thousands)       268.900\n",
       "Add5(in Thousands)       268.350\n",
       "Profit(in Thousands)    5088.455\n",
       "dtype: float64"
      ]
     },
     "execution_count": 11,
     "metadata": {},
     "output_type": "execute_result"
    }
   ],
   "source": [
    "data.median()"
   ]
  },
  {
   "cell_type": "code",
   "execution_count": 12,
   "id": "645af27e",
   "metadata": {
    "id": "645af27e",
    "outputId": "77cc4f46-842f-4722-ac85-69eb50457f98"
   },
   "outputs": [
    {
     "data": {
      "text/plain": [
       "Date                    2018-10-082018-10-052018-10-042018-10-032018-1...\n",
       "Add1(in Thousands)                                                54853.4\n",
       "Add2(in Thousands)                                                55703.1\n",
       "Add3(in Thousands)                                                53913.1\n",
       "Add4(in Thousands)                                                54780.9\n",
       "Add5(in Thousands)                                                54766.3\n",
       "Profit(in Thousands)                                          1037224.198\n",
       "dtype: object"
      ]
     },
     "execution_count": 12,
     "metadata": {},
     "output_type": "execute_result"
    }
   ],
   "source": [
    "data.sum()"
   ]
  },
  {
   "cell_type": "markdown",
   "id": "e597b6ae",
   "metadata": {
    "id": "e597b6ae"
   },
   "source": [
    "From the above statistical values (mean,median, max, sum), we can infer that maximum amount is given to the second advertisement company and minimum amount is given to the third company. There is no considerable differnce in the amount given to other companies."
   ]
  },
  {
   "cell_type": "code",
   "execution_count": null,
   "id": "9f7ee4f0",
   "metadata": {},
   "outputs": [],
   "source": [
    "# Let's plot a graph between the amount spend for advertisement in second company and the profit generated."
   ]
  },
  {
   "cell_type": "code",
   "execution_count": 65,
   "id": "5dd34b6e",
   "metadata": {},
   "outputs": [
    {
     "data": {
      "image/png": "[encoded data removed]",
      "text/plain": [
       "<Figure size 432x576 with 1 Axes>"
      ]
     },
     "metadata": {},
     "output_type": "display_data"
    }
   ],
   "source": [
    "plt.figure(figsize=(6,8))\n",
    "plt.scatter(data['Add2(in Thousands)'], data['Profit(in Thousands)'], c =\"pink\", linewidths = 2, marker =\"s\",edgecolor =\"green\",s = 50)\n",
    "plt.title('Plot of Amount spend for Advertisement in company 2 v/s Profit ', fontsize = 18, y=1.03, color = 'brown')\n",
    "plt.xlabel('Amount spend (company2)', fontsize = 14, labelpad = 15)\n",
    "plt.ylabel('Profit from Sales', fontsize = 14, labelpad = 15)\n",
    "plt.tick_params(labelsize=12, pad=6);"
   ]
  },
  {
   "cell_type": "code",
   "execution_count": 32,
   "id": "0e8b496f",
   "metadata": {
    "id": "0e8b496f",
    "outputId": "c4332366-62ae-460d-8f55-e6c254c95772"
   },
   "outputs": [
    {
     "data": {
      "image/png": "[encoded data removed]",
      "text/plain": [
       "<Figure size 1080x216 with 5 Axes>"
      ]
     },
     "metadata": {},
     "output_type": "display_data"
    }
   ],
   "source": [
    "# Let's see how profit is related with other variables using scatter plot.\n",
    "sns.set(style=\"ticks\", color_codes=True)\n",
    "sns.pairplot(data, x_vars=['Add1(in Thousands)', 'Add2(in Thousands)', 'Add3(in Thousands)','Add4(in Thousands)','Add5(in Thousands)'], y_vars='Profit(in Thousands)', height=3, aspect=1, kind='scatter')\n",
    "plt.show()"
   ]
  },
  {
   "cell_type": "markdown",
   "id": "78a7b7e3",
   "metadata": {
    "id": "78a7b7e3"
   },
   "source": [
    "From the above plots, it is clear that as the amount spend on advertisement through different compaines increases profit also increases considerbly. "
   ]
  },
  {
   "cell_type": "markdown",
   "id": "d5837fb9",
   "metadata": {
    "id": "d5837fb9"
   },
   "source": [
    "# 2. Build a regression model to predict the profit from the given data and comment your findings on it."
   ]
  },
  {
   "cell_type": "code",
   "execution_count": 50,
   "id": "1729fd7e",
   "metadata": {
    "id": "1729fd7e",
    "outputId": "d29ebf65-903d-418f-c47f-2627c2dbf48d"
   },
   "outputs": [
    {
     "data": {
      "image/png": "[encoded data removed]",
      "text/plain": [
       "<Figure size 1440x576 with 2 Axes>"
      ]
     },
     "metadata": {},
     "output_type": "display_data"
    }
   ],
   "source": [
    "corrmatrix = data.corr()\n",
    "plt.subplots(figsize = (20,8));\n",
    "sns.heatmap(corrmatrix, vmin = 0.01, vmax=0.7, annot = True, linewidth = 0.2,cmap=\"YlGnBu\");"
   ]
  },
  {
   "cell_type": "markdown",
   "id": "a0c428be",
   "metadata": {
    "id": "a0c428be"
   },
   "source": [
    "As visible from  the heatmap, all the variables are highly correlated to each other. But the variable Add2(in thousands) seems to be most correlated one with Profit(in Thousands). So let's go ahead and perform simple linear regression using Add2(in thousands) as our feature variable."
   ]
  },
  {
   "cell_type": "code",
   "execution_count": 51,
   "id": "7ee2feac",
   "metadata": {
    "id": "7ee2feac"
   },
   "outputs": [],
   "source": [
    "X = data['Add2(in Thousands)']\n",
    "y = data['Profit(in Thousands)']"
   ]
  },
  {
   "cell_type": "code",
   "execution_count": 52,
   "id": "ecc0eaf6",
   "metadata": {
    "id": "ecc0eaf6"
   },
   "outputs": [],
   "source": [
    "from sklearn.model_selection import train_test_split\n",
    "X_train, X_test, y_train, y_test = train_test_split(X, y, train_size = 0.8, test_size = 0.2, random_state = 100)"
   ]
  },
  {
   "cell_type": "code",
   "execution_count": 53,
   "id": "7413a215",
   "metadata": {
    "id": "7413a215",
    "outputId": "438f8f5a-e3aa-48a3-f128-943c3935cd0b"
   },
   "outputs": [
    {
     "data": {
      "text/plain": [
       "3      237.50\n",
       "157    282.75\n",
       "81     269.35\n",
       "32     244.50\n",
       "99     259.50\n",
       "Name: Add2(in Thousands), dtype: float64"
      ]
     },
     "execution_count": 53,
     "metadata": {},
     "output_type": "execute_result"
    }
   ],
   "source": [
    "X_train.head()"
   ]
  },
  {
   "cell_type": "code",
   "execution_count": 54,
   "id": "c1111f40",
   "metadata": {
    "id": "c1111f40",
    "outputId": "be33be50-635c-4f59-9c27-e1fab62ce0f7"
   },
   "outputs": [
    {
     "data": {
      "text/plain": [
       "3      4391.665\n",
       "157    5263.935\n",
       "81     5027.633\n",
       "32     4566.310\n",
       "99     4772.520\n",
       "Name: Profit(in Thousands), dtype: float64"
      ]
     },
     "execution_count": 54,
     "metadata": {},
     "output_type": "execute_result"
    }
   ],
   "source": [
    "y_train.head()"
   ]
  },
  {
   "cell_type": "code",
   "execution_count": 55,
   "id": "c9808af7",
   "metadata": {
    "id": "c9808af7"
   },
   "outputs": [],
   "source": [
    "import statsmodels.api as sm"
   ]
  },
  {
   "cell_type": "code",
   "execution_count": 56,
   "id": "a735f322",
   "metadata": {
    "id": "a735f322"
   },
   "outputs": [],
   "source": [
    "# Add a constant to get an intercept\n",
    "X_train_sm = sm.add_constant(X_train)\n",
    "\n",
    "# Fit the resgression line using 'OLS'\n",
    "lr = sm.OLS(y_train, X_train_sm).fit()"
   ]
  },
  {
   "cell_type": "code",
   "execution_count": 57,
   "id": "03aa3185",
   "metadata": {
    "id": "03aa3185",
    "outputId": "6506c7c1-d75b-4415-d563-c5d84e37ce21"
   },
   "outputs": [
    {
     "data": {
      "text/plain": [
       "const                -45.670847\n",
       "Add2(in Thousands)    18.787220\n",
       "dtype: float64"
      ]
     },
     "execution_count": 57,
     "metadata": {},
     "output_type": "execute_result"
    }
   ],
   "source": [
    "# Print the parameters, i.e. the intercept and the slope of the regression line fitted\n",
    "lr.params"
   ]
  },
  {
   "cell_type": "code",
   "execution_count": 58,
   "id": "7bf93a59",
   "metadata": {
    "id": "7bf93a59",
    "outputId": "a6b031f5-1efc-4935-ab58-5faea618ee07"
   },
   "outputs": [
    {
     "name": "stdout",
     "output_type": "stream",
     "text": [
      "                             OLS Regression Results                             \n",
      "================================================================================\n",
      "Dep. Variable:     Profit(in Thousands)   R-squared:                       0.998\n",
      "Model:                              OLS   Adj. R-squared:                  0.998\n",
      "Method:                   Least Squares   F-statistic:                 9.694e+04\n",
      "Date:                  Thu, 09 Dec 2021   Prob (F-statistic):          6.36e-227\n",
      "Time:                          12:14:22   Log-Likelihood:                -726.74\n",
      "No. Observations:                   164   AIC:                             1457.\n",
      "Df Residuals:                       162   BIC:                             1464.\n",
      "Df Model:                             1                                         \n",
      "Covariance Type:              nonrobust                                         \n",
      "======================================================================================\n",
      "                         coef    std err          t      P>|t|      [0.025      0.975]\n",
      "--------------------------------------------------------------------------------------\n",
      "const                -45.6708     16.356     -2.792      0.006     -77.968     -13.373\n",
      "Add2(in Thousands)    18.7872      0.060    311.347      0.000      18.668      18.906\n",
      "==============================================================================\n",
      "Omnibus:                       76.941   Durbin-Watson:                   1.979\n",
      "Prob(Omnibus):                  0.000   Jarque-Bera (JB):              269.949\n",
      "Skew:                          -1.861   Prob(JB):                     2.41e-59\n",
      "Kurtosis:                       8.065   Cond. No.                     2.77e+03\n",
      "==============================================================================\n",
      "\n",
      "Notes:\n",
      "[1] Standard Errors assume that the covariance matrix of the errors is correctly specified.\n",
      "[2] The condition number is large, 2.77e+03. This might indicate that there are\n",
      "strong multicollinearity or other numerical problems.\n"
     ]
    }
   ],
   "source": [
    "# Performing a summary operation lists out all the different parameters of the regression line fitted\n",
    "print(lr.summary())"
   ]
  },
  {
   "cell_type": "markdown",
   "id": "2324ac4c",
   "metadata": {
    "id": "2324ac4c"
   },
   "source": [
    "Let's visualize how well the model fit the data.\n",
    "\n",
    "From the parameters that we get, our linear regression equation becomes:\n",
    "Profit(in Thousands)=(-45.670847)+ 18.787220 * Add2(in Thousands)"
   ]
  },
  {
   "cell_type": "code",
   "execution_count": 59,
   "id": "61f75ba1",
   "metadata": {
    "id": "61f75ba1",
    "outputId": "2c38b538-ecb2-49e3-a749-8038632f8d65"
   },
   "outputs": [
    {
     "data": {
      "image/png": "[encoded data removed]",
      "text/plain": [
       "<Figure size 432x288 with 1 Axes>"
      ]
     },
     "metadata": {},
     "output_type": "display_data"
    }
   ],
   "source": [
    "plt.scatter(X_train, y_train)\n",
    "plt.plot(X_train, (-45.670847)+ 18.787220 *X_train, 'r')\n",
    "plt.show()"
   ]
  },
  {
   "cell_type": "markdown",
   "id": "31ce6852",
   "metadata": {
    "id": "31ce6852"
   },
   "source": [
    "From the plot it is clear that our regression line is perfectly fit with the data."
   ]
  },
  {
   "cell_type": "markdown",
   "id": "365530ec",
   "metadata": {
    "id": "365530ec"
   },
   "source": [
    "# 3) Predict the profit generated by the company, if they wish to spend the following amount for advertisement."
   ]
  },
  {
   "cell_type": "code",
   "execution_count": 60,
   "id": "fbd59ebb",
   "metadata": {
    "id": "fbd59ebb",
    "outputId": "ed5da004-761d-4979-ffdd-170adc7d7c20"
   },
   "outputs": [
    {
     "name": "stdout",
     "output_type": "stream",
     "text": [
      "When the amount spend for adverstisement is 290 The profit generated by the company is  5402.622953\n"
     ]
    }
   ],
   "source": [
    "Amount = 290\n",
    "Profit=(-45.670847)+ 18.787220 * Amount\n",
    "print(\"When the amount spend for adverstisement is\", Amount,\"The profit generated by the company is \",Profit)"
   ]
  },
  {
   "cell_type": "code",
   "execution_count": 61,
   "id": "0b301960",
   "metadata": {
    "id": "0b301960",
    "outputId": "75b5329c-3a80-4cbf-8c08-f8591e496a5b"
   },
   "outputs": [
    {
     "name": "stdout",
     "output_type": "stream",
     "text": [
      "When the amount spend for adverstisement is 312 The profit generated by the company is  5815.941793\n"
     ]
    }
   ],
   "source": [
    "Amount = 312\n",
    "Profit=(-45.670847)+ 18.787220 * Amount\n",
    "print(\"When the amount spend for adverstisement is\", Amount,\"The profit generated by the company is \",Profit)"
   ]
  },
  {
   "cell_type": "code",
   "execution_count": 62,
   "id": "3444053e",
   "metadata": {
    "id": "3444053e",
    "outputId": "672e037e-5676-425d-8aae-21331559e565"
   },
   "outputs": [
    {
     "name": "stdout",
     "output_type": "stream",
     "text": [
      "When the amount spend for adverstisement is 309 The profit generated by the company is  5759.580133\n"
     ]
    }
   ],
   "source": [
    "Amount = 309\n",
    "Profit=(-45.670847)+ 18.787220 * Amount\n",
    "print(\"When the amount spend for adverstisement is\", Amount,\"The profit generated by the company is \",Profit)"
   ]
  },
  {
   "cell_type": "code",
   "execution_count": 63,
   "id": "0081d2aa",
   "metadata": {
    "id": "0081d2aa",
    "outputId": "e06f65ce-185e-4126-d345-62722a27befc"
   },
   "outputs": [
    {
     "name": "stdout",
     "output_type": "stream",
     "text": [
      "When the amount spend for adverstisement is 298 The profit generated by the company is  5552.920713\n"
     ]
    }
   ],
   "source": [
    "Amount = 298\n",
    "Profit=(-45.670847)+ 18.787220 * Amount\n",
    "print(\"When the amount spend for adverstisement is\", Amount,\"The profit generated by the company is \",Profit)"
   ]
  },
  {
   "cell_type": "code",
   "execution_count": 64,
   "id": "dade7ec9",
   "metadata": {
    "id": "dade7ec9",
    "outputId": "7921bc5c-2caf-4ada-aae4-924c482ac54c"
   },
   "outputs": [
    {
     "name": "stdout",
     "output_type": "stream",
     "text": [
      "When the amount spend for adverstisement is 320 The profit generated by the company is  5966.239553\n"
     ]
    }
   ],
   "source": [
    " Amount = 320\n",
    "Profit=(-45.670847)+ 18.787220 * Amount\n",
    "print(\"When the amount spend for adverstisement is\", Amount,\"The profit generated by the company is \",Profit)"
   ]
  }
 ],
 "metadata": {
  "colab": {
   "name": "Case study-3 Correlation and Regression Add data.ipynb",
   "provenance": []
  },
  "kernelspec": {
   "display_name": "Python 3",
   "language": "python",
   "name": "python3"
  },
  "language_info": {
   "codemirror_mode": {
    "name": "ipython",
    "version": 3
   },
   "file_extension": ".py",
   "mimetype": "text/x-python",
   "name": "python",
   "nbconvert_exporter": "python",
   "pygments_lexer": "ipython3",
   "version": "3.8.8"
  }
 },
 "nbformat": 4,
 "nbformat_minor": 5
}
