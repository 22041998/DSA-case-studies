{
 "cells": [
  {
   "cell_type": "code",
   "execution_count": 133,
   "id": "6362c2fd",
   "metadata": {},
   "outputs": [],
   "source": [
    "# importing libraries\n",
    "import  pandas as pd\n",
    "import numpy as np\n",
    "import seaborn as sns\n",
    "import scipy as sp\n",
    "import matplotlib.pyplot as plt"
   ]
  },
  {
   "cell_type": "code",
   "execution_count": 134,
   "id": "ad289d10",
   "metadata": {},
   "outputs": [],
   "source": [
    "# importing data\n",
    "data = pd.read_csv(\"Sales_data_zone_wise.csv\")"
   ]
  },
  {
   "cell_type": "code",
   "execution_count": 135,
   "id": "80903dd4",
   "metadata": {},
   "outputs": [
    {
     "data": {
      "text/html": [
       "<div>\n",
       "<style scoped>\n",
       "    .dataframe tbody tr th:only-of-type {\n",
       "        vertical-align: middle;\n",
       "    }\n",
       "\n",
       "    .dataframe tbody tr th {\n",
       "        vertical-align: top;\n",
       "    }\n",
       "\n",
       "    .dataframe thead th {\n",
       "        text-align: right;\n",
       "    }\n",
       "</style>\n",
       "<table border=\"1\" class=\"dataframe\">\n",
       "  <thead>\n",
       "    <tr style=\"text-align: right;\">\n",
       "      <th></th>\n",
       "      <th>Month</th>\n",
       "      <th>Zone - A</th>\n",
       "      <th>Zone - B</th>\n",
       "      <th>Zone - C</th>\n",
       "      <th>Zone - D</th>\n",
       "    </tr>\n",
       "  </thead>\n",
       "  <tbody>\n",
       "    <tr>\n",
       "      <th>0</th>\n",
       "      <td>Month - 1</td>\n",
       "      <td>1483525</td>\n",
       "      <td>1748451</td>\n",
       "      <td>1523308</td>\n",
       "      <td>2267260</td>\n",
       "    </tr>\n",
       "    <tr>\n",
       "      <th>1</th>\n",
       "      <td>Month - 2</td>\n",
       "      <td>1238428</td>\n",
       "      <td>1707421</td>\n",
       "      <td>2212113</td>\n",
       "      <td>1994341</td>\n",
       "    </tr>\n",
       "    <tr>\n",
       "      <th>2</th>\n",
       "      <td>Month - 3</td>\n",
       "      <td>1860771</td>\n",
       "      <td>2091194</td>\n",
       "      <td>1282374</td>\n",
       "      <td>1241600</td>\n",
       "    </tr>\n",
       "    <tr>\n",
       "      <th>3</th>\n",
       "      <td>Month - 4</td>\n",
       "      <td>1871571</td>\n",
       "      <td>1759617</td>\n",
       "      <td>2290580</td>\n",
       "      <td>2252681</td>\n",
       "    </tr>\n",
       "    <tr>\n",
       "      <th>4</th>\n",
       "      <td>Month - 5</td>\n",
       "      <td>1244922</td>\n",
       "      <td>1606010</td>\n",
       "      <td>1818334</td>\n",
       "      <td>1326062</td>\n",
       "    </tr>\n",
       "  </tbody>\n",
       "</table>\n",
       "</div>"
      ],
      "text/plain": [
       "       Month  Zone - A  Zone - B  Zone - C  Zone - D\n",
       "0  Month - 1   1483525   1748451   1523308   2267260\n",
       "1  Month - 2   1238428   1707421   2212113   1994341\n",
       "2  Month - 3   1860771   2091194   1282374   1241600\n",
       "3  Month - 4   1871571   1759617   2290580   2252681\n",
       "4  Month - 5   1244922   1606010   1818334   1326062"
      ]
     },
     "execution_count": 135,
     "metadata": {},
     "output_type": "execute_result"
    }
   ],
   "source": [
    "data.head()"
   ]
  },
  {
   "cell_type": "code",
   "execution_count": 136,
   "id": "d6c97187",
   "metadata": {},
   "outputs": [
    {
     "data": {
      "text/plain": [
       "Month       0\n",
       "Zone - A    0\n",
       "Zone - B    0\n",
       "Zone - C    0\n",
       "Zone - D    0\n",
       "dtype: int64"
      ]
     },
     "execution_count": 136,
     "metadata": {},
     "output_type": "execute_result"
    }
   ],
   "source": [
    "# Checking for null values\n",
    "data.isna().sum()"
   ]
  },
  {
   "cell_type": "markdown",
   "id": "37e64369",
   "metadata": {},
   "source": [
    "There are no null values in the dataset."
   ]
  },
  {
   "cell_type": "code",
   "execution_count": 152,
   "id": "c0ccc9c5",
   "metadata": {},
   "outputs": [
    {
     "data": {
      "text/plain": [
       "(29, 6)"
      ]
     },
     "execution_count": 152,
     "metadata": {},
     "output_type": "execute_result"
    }
   ],
   "source": [
    "data.shape"
   ]
  },
  {
   "cell_type": "code",
   "execution_count": null,
   "id": "08e77e22",
   "metadata": {},
   "outputs": [],
   "source": [
    "# Our dataset has 29 rows and 6 columns"
   ]
  },
  {
   "cell_type": "code",
   "execution_count": 138,
   "id": "68850033",
   "metadata": {},
   "outputs": [
    {
     "name": "stdout",
     "output_type": "stream",
     "text": [
      "<class 'pandas.core.frame.DataFrame'>\n",
      "RangeIndex: 29 entries, 0 to 28\n",
      "Data columns (total 5 columns):\n",
      " #   Column    Non-Null Count  Dtype \n",
      "---  ------    --------------  ----- \n",
      " 0   Month     29 non-null     object\n",
      " 1   Zone - A  29 non-null     int64 \n",
      " 2   Zone - B  29 non-null     int64 \n",
      " 3   Zone - C  29 non-null     int64 \n",
      " 4   Zone - D  29 non-null     int64 \n",
      "dtypes: int64(4), object(1)\n",
      "memory usage: 1.3+ KB\n"
     ]
    }
   ],
   "source": [
    "# Summary of dataset\n",
    "data.info()"
   ]
  },
  {
   "cell_type": "markdown",
   "id": "66eff965",
   "metadata": {},
   "source": [
    "# Calculate the mean sales generated by each zone."
   ]
  },
  {
   "cell_type": "code",
   "execution_count": 140,
   "id": "44ae4c45",
   "metadata": {},
   "outputs": [
    {
     "name": "stdout",
     "output_type": "stream",
     "text": [
      "The mean sales generated by Zone A is ₹ 1540493.1379310344\n",
      "The mean sales generated by Zone B is ₹ 1755559.5862068965\n",
      "The mean sales generated by Zone C is ₹ 1772871.0344827587\n",
      "The mean sales generated by Zone D is ₹ 1842926.7586206896\n"
     ]
    }
   ],
   "source": [
    "mean1 = data['Zone - A'].mean()\n",
    "mean2 = data['Zone - B'].mean()\n",
    "mean3 = data['Zone - C'].mean()\n",
    "mean4 = data['Zone - D'].mean()\n",
    "print ('The mean sales generated by Zone A is ₹',mean1)\n",
    "print ('The mean sales generated by Zone B is ₹',mean2)\n",
    "print ('The mean sales generated by Zone C is ₹',mean3)\n",
    "print ('The mean sales generated by Zone D is ₹',mean4)"
   ]
  },
  {
   "cell_type": "code",
   "execution_count": 141,
   "id": "a9dd739e",
   "metadata": {},
   "outputs": [
    {
     "data": {
      "image/png": "[encoded data removed]",
      "text/plain": [
       "<Figure size 432x648 with 1 Axes>"
      ]
     },
     "metadata": {
      "needs_background": "light"
     },
     "output_type": "display_data"
    }
   ],
   "source": [
    "# Let's plot a graph showing the mean sales in each zone.\n",
    "plt.figure(figsize=(6,9))\n",
    "data.mean().plot(kind='bar', color ='brown');\n",
    "plt.title('Mean of sales in each zone',fontsize=14)\n",
    "plt.ylabel('Mean of sales',fontsize=10);"
   ]
  },
  {
   "cell_type": "markdown",
   "id": "d07e0d8b",
   "metadata": {},
   "source": [
    "From the above plot, it's clear that Zone-D is has the highest mean sales and Zone A has the lowest mean sales."
   ]
  },
  {
   "cell_type": "markdown",
   "id": "c47051ba",
   "metadata": {},
   "source": [
    "# Calculate the total sales generated by all the zones for each month."
   ]
  },
  {
   "cell_type": "code",
   "execution_count": 142,
   "id": "affa8d3a",
   "metadata": {},
   "outputs": [],
   "source": [
    "dflist = ['Zone - A','Zone - B','Zone - C','Zone - D']"
   ]
  },
  {
   "cell_type": "code",
   "execution_count": 143,
   "id": "dcd785e2",
   "metadata": {},
   "outputs": [],
   "source": [
    "# For caluculating the sum\n",
    "data['Total sales from all zones'] = data[dflist].sum(axis=1)"
   ]
  },
  {
   "cell_type": "code",
   "execution_count": 145,
   "id": "473836d2",
   "metadata": {},
   "outputs": [
    {
     "data": {
      "text/html": [
       "<div>\n",
       "<style scoped>\n",
       "    .dataframe tbody tr th:only-of-type {\n",
       "        vertical-align: middle;\n",
       "    }\n",
       "\n",
       "    .dataframe tbody tr th {\n",
       "        vertical-align: top;\n",
       "    }\n",
       "\n",
       "    .dataframe thead th {\n",
       "        text-align: right;\n",
       "    }\n",
       "</style>\n",
       "<table border=\"1\" class=\"dataframe\">\n",
       "  <thead>\n",
       "    <tr style=\"text-align: right;\">\n",
       "      <th></th>\n",
       "      <th>Month</th>\n",
       "      <th>Zone - A</th>\n",
       "      <th>Zone - B</th>\n",
       "      <th>Zone - C</th>\n",
       "      <th>Zone - D</th>\n",
       "      <th>Total sales from all zones</th>\n",
       "    </tr>\n",
       "  </thead>\n",
       "  <tbody>\n",
       "    <tr>\n",
       "      <th>0</th>\n",
       "      <td>Month - 1</td>\n",
       "      <td>1483525</td>\n",
       "      <td>1748451</td>\n",
       "      <td>1523308</td>\n",
       "      <td>2267260</td>\n",
       "      <td>7022544</td>\n",
       "    </tr>\n",
       "    <tr>\n",
       "      <th>1</th>\n",
       "      <td>Month - 2</td>\n",
       "      <td>1238428</td>\n",
       "      <td>1707421</td>\n",
       "      <td>2212113</td>\n",
       "      <td>1994341</td>\n",
       "      <td>7152303</td>\n",
       "    </tr>\n",
       "    <tr>\n",
       "      <th>2</th>\n",
       "      <td>Month - 3</td>\n",
       "      <td>1860771</td>\n",
       "      <td>2091194</td>\n",
       "      <td>1282374</td>\n",
       "      <td>1241600</td>\n",
       "      <td>6475939</td>\n",
       "    </tr>\n",
       "    <tr>\n",
       "      <th>3</th>\n",
       "      <td>Month - 4</td>\n",
       "      <td>1871571</td>\n",
       "      <td>1759617</td>\n",
       "      <td>2290580</td>\n",
       "      <td>2252681</td>\n",
       "      <td>8174449</td>\n",
       "    </tr>\n",
       "    <tr>\n",
       "      <th>4</th>\n",
       "      <td>Month - 5</td>\n",
       "      <td>1244922</td>\n",
       "      <td>1606010</td>\n",
       "      <td>1818334</td>\n",
       "      <td>1326062</td>\n",
       "      <td>5995328</td>\n",
       "    </tr>\n",
       "    <tr>\n",
       "      <th>5</th>\n",
       "      <td>Month - 6</td>\n",
       "      <td>1534390</td>\n",
       "      <td>1573128</td>\n",
       "      <td>1751825</td>\n",
       "      <td>2292044</td>\n",
       "      <td>7151387</td>\n",
       "    </tr>\n",
       "    <tr>\n",
       "      <th>6</th>\n",
       "      <td>Month - 7</td>\n",
       "      <td>1820196</td>\n",
       "      <td>1992031</td>\n",
       "      <td>1786826</td>\n",
       "      <td>1688055</td>\n",
       "      <td>7287108</td>\n",
       "    </tr>\n",
       "    <tr>\n",
       "      <th>7</th>\n",
       "      <td>Month - 8</td>\n",
       "      <td>1625696</td>\n",
       "      <td>1665534</td>\n",
       "      <td>2161754</td>\n",
       "      <td>2363315</td>\n",
       "      <td>7816299</td>\n",
       "    </tr>\n",
       "    <tr>\n",
       "      <th>8</th>\n",
       "      <td>Month - 9</td>\n",
       "      <td>1652644</td>\n",
       "      <td>1873402</td>\n",
       "      <td>1755290</td>\n",
       "      <td>1422059</td>\n",
       "      <td>6703395</td>\n",
       "    </tr>\n",
       "    <tr>\n",
       "      <th>9</th>\n",
       "      <td>Month - 10</td>\n",
       "      <td>1852450</td>\n",
       "      <td>1913059</td>\n",
       "      <td>1754314</td>\n",
       "      <td>1608387</td>\n",
       "      <td>7128210</td>\n",
       "    </tr>\n",
       "    <tr>\n",
       "      <th>10</th>\n",
       "      <td>Month - 11</td>\n",
       "      <td>2004480</td>\n",
       "      <td>1740365</td>\n",
       "      <td>1317869</td>\n",
       "      <td>1970069</td>\n",
       "      <td>7032783</td>\n",
       "    </tr>\n",
       "    <tr>\n",
       "      <th>11</th>\n",
       "      <td>Month - 12</td>\n",
       "      <td>1537539</td>\n",
       "      <td>1875658</td>\n",
       "      <td>1237722</td>\n",
       "      <td>1460165</td>\n",
       "      <td>6111084</td>\n",
       "    </tr>\n",
       "    <tr>\n",
       "      <th>12</th>\n",
       "      <td>Month - 13</td>\n",
       "      <td>1254939</td>\n",
       "      <td>1588473</td>\n",
       "      <td>1348629</td>\n",
       "      <td>1733383</td>\n",
       "      <td>5925424</td>\n",
       "    </tr>\n",
       "    <tr>\n",
       "      <th>13</th>\n",
       "      <td>Month - 14</td>\n",
       "      <td>1821799</td>\n",
       "      <td>1844081</td>\n",
       "      <td>1617376</td>\n",
       "      <td>1872259</td>\n",
       "      <td>7155515</td>\n",
       "    </tr>\n",
       "    <tr>\n",
       "      <th>14</th>\n",
       "      <td>Month - 15</td>\n",
       "      <td>1128185</td>\n",
       "      <td>1804613</td>\n",
       "      <td>1767047</td>\n",
       "      <td>1234311</td>\n",
       "      <td>5934156</td>\n",
       "    </tr>\n",
       "    <tr>\n",
       "      <th>15</th>\n",
       "      <td>Month - 16</td>\n",
       "      <td>1491534</td>\n",
       "      <td>1542053</td>\n",
       "      <td>1882159</td>\n",
       "      <td>1590913</td>\n",
       "      <td>6506659</td>\n",
       "    </tr>\n",
       "    <tr>\n",
       "      <th>16</th>\n",
       "      <td>Month - 17</td>\n",
       "      <td>1182110</td>\n",
       "      <td>1552388</td>\n",
       "      <td>2234469</td>\n",
       "      <td>2180416</td>\n",
       "      <td>7149383</td>\n",
       "    </tr>\n",
       "    <tr>\n",
       "      <th>17</th>\n",
       "      <td>Month - 18</td>\n",
       "      <td>1770324</td>\n",
       "      <td>1699213</td>\n",
       "      <td>1249821</td>\n",
       "      <td>2364132</td>\n",
       "      <td>7083490</td>\n",
       "    </tr>\n",
       "    <tr>\n",
       "      <th>18</th>\n",
       "      <td>Month - 19</td>\n",
       "      <td>1181635</td>\n",
       "      <td>1959268</td>\n",
       "      <td>2009168</td>\n",
       "      <td>1821882</td>\n",
       "      <td>6971953</td>\n",
       "    </tr>\n",
       "    <tr>\n",
       "      <th>19</th>\n",
       "      <td>Month - 20</td>\n",
       "      <td>1305972</td>\n",
       "      <td>1559670</td>\n",
       "      <td>2107949</td>\n",
       "      <td>2151008</td>\n",
       "      <td>7124599</td>\n",
       "    </tr>\n",
       "    <tr>\n",
       "      <th>20</th>\n",
       "      <td>Month - 21</td>\n",
       "      <td>1570152</td>\n",
       "      <td>2013615</td>\n",
       "      <td>1540016</td>\n",
       "      <td>2265814</td>\n",
       "      <td>7389597</td>\n",
       "    </tr>\n",
       "    <tr>\n",
       "      <th>21</th>\n",
       "      <td>Month - 22</td>\n",
       "      <td>1481619</td>\n",
       "      <td>1527574</td>\n",
       "      <td>2255729</td>\n",
       "      <td>2295079</td>\n",
       "      <td>7560001</td>\n",
       "    </tr>\n",
       "    <tr>\n",
       "      <th>22</th>\n",
       "      <td>Month - 23</td>\n",
       "      <td>1887694</td>\n",
       "      <td>1992155</td>\n",
       "      <td>1348387</td>\n",
       "      <td>1459683</td>\n",
       "      <td>6687919</td>\n",
       "    </tr>\n",
       "    <tr>\n",
       "      <th>23</th>\n",
       "      <td>Month - 24</td>\n",
       "      <td>1880820</td>\n",
       "      <td>1752873</td>\n",
       "      <td>2098463</td>\n",
       "      <td>2052591</td>\n",
       "      <td>7784747</td>\n",
       "    </tr>\n",
       "    <tr>\n",
       "      <th>24</th>\n",
       "      <td>Month - 25</td>\n",
       "      <td>1256333</td>\n",
       "      <td>1622671</td>\n",
       "      <td>1521792</td>\n",
       "      <td>1695122</td>\n",
       "      <td>6095918</td>\n",
       "    </tr>\n",
       "    <tr>\n",
       "      <th>25</th>\n",
       "      <td>Month - 26</td>\n",
       "      <td>1422853</td>\n",
       "      <td>1715465</td>\n",
       "      <td>1853636</td>\n",
       "      <td>1520406</td>\n",
       "      <td>6512360</td>\n",
       "    </tr>\n",
       "    <tr>\n",
       "      <th>26</th>\n",
       "      <td>Month - 27</td>\n",
       "      <td>1384426</td>\n",
       "      <td>1983163</td>\n",
       "      <td>1611169</td>\n",
       "      <td>1289160</td>\n",
       "      <td>6267918</td>\n",
       "    </tr>\n",
       "    <tr>\n",
       "      <th>27</th>\n",
       "      <td>Month - 28</td>\n",
       "      <td>1616640</td>\n",
       "      <td>1547991</td>\n",
       "      <td>2128022</td>\n",
       "      <td>2178267</td>\n",
       "      <td>7470920</td>\n",
       "    </tr>\n",
       "    <tr>\n",
       "      <th>28</th>\n",
       "      <td>Month - 29</td>\n",
       "      <td>1310654</td>\n",
       "      <td>1660092</td>\n",
       "      <td>1947119</td>\n",
       "      <td>1854412</td>\n",
       "      <td>6772277</td>\n",
       "    </tr>\n",
       "  </tbody>\n",
       "</table>\n",
       "</div>"
      ],
      "text/plain": [
       "         Month  Zone - A  Zone - B  Zone - C  Zone - D  \\\n",
       "0    Month - 1   1483525   1748451   1523308   2267260   \n",
       "1    Month - 2   1238428   1707421   2212113   1994341   \n",
       "2    Month - 3   1860771   2091194   1282374   1241600   \n",
       "3    Month - 4   1871571   1759617   2290580   2252681   \n",
       "4    Month - 5   1244922   1606010   1818334   1326062   \n",
       "5    Month - 6   1534390   1573128   1751825   2292044   \n",
       "6    Month - 7   1820196   1992031   1786826   1688055   \n",
       "7    Month - 8   1625696   1665534   2161754   2363315   \n",
       "8    Month - 9   1652644   1873402   1755290   1422059   \n",
       "9   Month - 10   1852450   1913059   1754314   1608387   \n",
       "10  Month - 11   2004480   1740365   1317869   1970069   \n",
       "11  Month - 12   1537539   1875658   1237722   1460165   \n",
       "12  Month - 13   1254939   1588473   1348629   1733383   \n",
       "13  Month - 14   1821799   1844081   1617376   1872259   \n",
       "14  Month - 15   1128185   1804613   1767047   1234311   \n",
       "15  Month - 16   1491534   1542053   1882159   1590913   \n",
       "16  Month - 17   1182110   1552388   2234469   2180416   \n",
       "17  Month - 18   1770324   1699213   1249821   2364132   \n",
       "18  Month - 19   1181635   1959268   2009168   1821882   \n",
       "19  Month - 20   1305972   1559670   2107949   2151008   \n",
       "20  Month - 21   1570152   2013615   1540016   2265814   \n",
       "21  Month - 22   1481619   1527574   2255729   2295079   \n",
       "22  Month - 23   1887694   1992155   1348387   1459683   \n",
       "23  Month - 24   1880820   1752873   2098463   2052591   \n",
       "24  Month - 25   1256333   1622671   1521792   1695122   \n",
       "25  Month - 26   1422853   1715465   1853636   1520406   \n",
       "26  Month - 27   1384426   1983163   1611169   1289160   \n",
       "27  Month - 28   1616640   1547991   2128022   2178267   \n",
       "28  Month - 29   1310654   1660092   1947119   1854412   \n",
       "\n",
       "    Total sales from all zones  \n",
       "0                      7022544  \n",
       "1                      7152303  \n",
       "2                      6475939  \n",
       "3                      8174449  \n",
       "4                      5995328  \n",
       "5                      7151387  \n",
       "6                      7287108  \n",
       "7                      7816299  \n",
       "8                      6703395  \n",
       "9                      7128210  \n",
       "10                     7032783  \n",
       "11                     6111084  \n",
       "12                     5925424  \n",
       "13                     7155515  \n",
       "14                     5934156  \n",
       "15                     6506659  \n",
       "16                     7149383  \n",
       "17                     7083490  \n",
       "18                     6971953  \n",
       "19                     7124599  \n",
       "20                     7389597  \n",
       "21                     7560001  \n",
       "22                     6687919  \n",
       "23                     7784747  \n",
       "24                     6095918  \n",
       "25                     6512360  \n",
       "26                     6267918  \n",
       "27                     7470920  \n",
       "28                     6772277  "
      ]
     },
     "execution_count": 145,
     "metadata": {},
     "output_type": "execute_result"
    }
   ],
   "source": [
    "data\n",
    "# The total sales generated by all the zones for each month is shown below in the data frame"
   ]
  },
  {
   "cell_type": "code",
   "execution_count": 153,
   "id": "0a5937ef",
   "metadata": {},
   "outputs": [
    {
     "data": {
      "image/png": "[encoded data removed]",
      "text/plain": [
       "<Figure size 1008x576 with 1 Axes>"
      ]
     },
     "metadata": {
      "needs_background": "light"
     },
     "output_type": "display_data"
    }
   ],
   "source": [
    "# Let's plot a graph showing the total sales in each month.\n",
    "plt.figure(figsize=(14,8))\n",
    "x = data['Month']\n",
    "y =data['Total sales from all zones']\n",
    "plt.plot(x,y)\n",
    "plt.title('Monthwise sales',fontsize=20,fontweight='bold')\n",
    "plt.ylabel('Total sales from all zones',fontsize=12)\n",
    "plt.xticks(rotation=90, fontsize = 12);"
   ]
  },
  {
   "cell_type": "markdown",
   "id": "432aa4f6",
   "metadata": {},
   "source": [
    "From the above plot, it is clear that we have the maximum sales in Month-4 amd the minimum sales in Month-13 and Month-15."
   ]
  },
  {
   "cell_type": "markdown",
   "id": "ce0f934a",
   "metadata": {},
   "source": [
    "# Check whether all the zones generate the same amount of sales."
   ]
  },
  {
   "cell_type": "markdown",
   "id": "2497a73d",
   "metadata": {},
   "source": [
    "Here we are having 4 independent variables with target variable and we need to  check whether all the zones generate the same amount of sales. Hence we use one way ANOVA.\n",
    "\n",
    "H0 (Null Hypothesis): The sales amount generated by all the zones are the same.\n",
    "Ha (Alternate Hypothesis): The sales amount generated by all the zones are not the same.\n",
    "\n",
    "Since the significance level is not mentioned, we can assume it as 5% or 0.05."
   ]
  },
  {
   "cell_type": "code",
   "execution_count": 151,
   "id": "b9a8504a",
   "metadata": {},
   "outputs": [
    {
     "name": "stdout",
     "output_type": "stream",
     "text": [
      "f_statistic= 5.67206\n",
      "p_value= 0.00118\n"
     ]
    }
   ],
   "source": [
    "import scipy.stats as stats\n",
    "# stats f_oneway functions takes the groups as input and returns ANOVA F and p value\n",
    "f_statistic, p_value = stats.f_oneway(data['Zone - A'], data['Zone - B'], data['Zone - C'], data['Zone - D'])\n",
    "print('f_statistic=',round(f_statistic,5))\n",
    "print('p_value=',round(p_value,5))"
   ]
  },
  {
   "cell_type": "markdown",
   "id": "89f9943e",
   "metadata": {},
   "source": [
    "Insights: Since our p-value is < 0.05, we have strong evidence against null hypothesis. So we reject our null hypothesis and accept the alternative. i.e,  The sales amount generated by all the zones are not the same."
   ]
  }
 ],
 "metadata": {
  "kernelspec": {
   "display_name": "Python 3",
   "language": "python",
   "name": "python3"
  },
  "language_info": {
   "codemirror_mode": {
    "name": "ipython",
    "version": 3
   },
   "file_extension": ".py",
   "mimetype": "text/x-python",
   "name": "python",
   "nbconvert_exporter": "python",
   "pygments_lexer": "ipython3",
   "version": "3.8.8"
  }
 },
 "nbformat": 4,
 "nbformat_minor": 5
}
